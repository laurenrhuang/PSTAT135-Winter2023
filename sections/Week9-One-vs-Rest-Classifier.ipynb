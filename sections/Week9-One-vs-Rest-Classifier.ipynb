{
 "cells": [
  {
   "cell_type": "markdown",
   "id": "f5ffb86e-a882-4250-98d4-a91ff1ee14b7",
   "metadata": {},
   "source": [
    "# One vs. Rest Classifier\n",
    "[Source link](https://learning.oreilly.com/library/view/apache-spark-2-x/9781783551606/0b079c89-7dee-4091-8692-43b8955cf6b1.xhtml), [data](https://www.csie.ntu.edu.tw/~cjlin/libsvmtools/datasets/multiclass/iris.scale)"
   ]
  },
  {
   "cell_type": "markdown",
   "id": "21c23615-3709-4dbd-bea7-dafb7084d4de",
   "metadata": {},
   "source": [
    "### Import packages"
   ]
  },
  {
   "cell_type": "code",
   "execution_count": 1,
   "id": "0c400d28-e7e0-4936-a658-dc2fa12688b0",
   "metadata": {},
   "outputs": [],
   "source": [
    "from pyspark.ml.classification import LogisticRegression\n",
    "from pyspark.ml.classification import OneVsRest\n",
    "from pyspark.ml.evaluation import MulticlassClassificationEvaluator"
   ]
  },
  {
   "cell_type": "markdown",
   "id": "044a7c32-8e46-4aba-868b-ea70425dc8ee",
   "metadata": {},
   "source": [
    "### Load data"
   ]
  },
  {
   "cell_type": "code",
   "execution_count": 2,
   "id": "0cfd9d89-a6ff-4355-a414-2675aab4d898",
   "metadata": {},
   "outputs": [],
   "source": [
    "data_path = ##PATH-TO-DATA##"
   ]
  },
  {
   "cell_type": "code",
   "execution_count": 3,
   "id": "1e4e1f18-5509-4fe4-98a9-75a0e1b59126",
   "metadata": {},
   "outputs": [],
   "source": [
    "data = spark.read.format('libsvm').option('numFeatures', '4').load(data_path + 'iris.scale.txt')"
   ]
  },
  {
   "cell_type": "code",
   "execution_count": 4,
   "id": "c8ed0f01-797d-48e1-86bc-ba7e6e8057f9",
   "metadata": {},
   "outputs": [
    {
     "name": "stderr",
     "output_type": "stream",
     "text": [
      "[Stage 0:>                                                          (0 + 1) / 1]\r"
     ]
    },
    {
     "name": "stdout",
     "output_type": "stream",
     "text": [
      "+-----+--------------------------------------------------------+\n",
      "|label|features                                                |\n",
      "+-----+--------------------------------------------------------+\n",
      "|1.0  |(4,[0,1,2,3],[-0.555556,0.25,-0.864407,-0.916667])      |\n",
      "|1.0  |(4,[0,1,2,3],[-0.666667,-0.166667,-0.864407,-0.916667]) |\n",
      "|1.0  |(4,[0,2,3],[-0.777778,-0.898305,-0.916667])             |\n",
      "|1.0  |(4,[0,1,2,3],[-0.833333,-0.0833334,-0.830508,-0.916667])|\n",
      "|1.0  |(4,[0,1,2,3],[-0.611111,0.333333,-0.864407,-0.916667])  |\n",
      "|1.0  |(4,[0,1,2,3],[-0.388889,0.583333,-0.762712,-0.75])      |\n",
      "|1.0  |(4,[0,1,2,3],[-0.833333,0.166667,-0.864407,-0.833333])  |\n",
      "|1.0  |(4,[0,1,2,3],[-0.611111,0.166667,-0.830508,-0.916667])  |\n",
      "|1.0  |(4,[0,1,2,3],[-0.944444,-0.25,-0.864407,-0.916667])     |\n",
      "|1.0  |(4,[0,1,2,3],[-0.666667,-0.0833334,-0.830508,-1.0])     |\n",
      "+-----+--------------------------------------------------------+\n",
      "only showing top 10 rows\n",
      "\n"
     ]
    },
    {
     "name": "stderr",
     "output_type": "stream",
     "text": [
      "                                                                                \r"
     ]
    }
   ],
   "source": [
    "data.show(10, False)"
   ]
  },
  {
   "cell_type": "markdown",
   "id": "b5cc4fb7-971d-4c28-aae1-f858ad53f99e",
   "metadata": {},
   "source": [
    "### Initialize Logistic Regression"
   ]
  },
  {
   "cell_type": "code",
   "execution_count": 5,
   "id": "de477516-ea0e-4856-ab5d-209530271895",
   "metadata": {},
   "outputs": [
    {
     "data": {
      "text/plain": [
       "LogisticRegression_9079be1a3100"
      ]
     },
     "execution_count": 5,
     "metadata": {},
     "output_type": "execute_result"
    }
   ],
   "source": [
    "lr = LogisticRegression().setLabelCol('label').setFeaturesCol('features')\n",
    "lr.setMaxIter(15)\n",
    "lr.setTol(1e-3)\n",
    "lr.setFitIntercept(True)"
   ]
  },
  {
   "cell_type": "markdown",
   "id": "30293139-2430-4a32-9dda-9db330abe5f3",
   "metadata": {},
   "source": [
    "### Initialize One-vs-Rest with Logistic Regression"
   ]
  },
  {
   "cell_type": "code",
   "execution_count": 6,
   "id": "e78e9984-7883-4869-a440-494b870f4538",
   "metadata": {},
   "outputs": [],
   "source": [
    "ovr = OneVsRest(classifier=lr)"
   ]
  },
  {
   "cell_type": "code",
   "execution_count": 7,
   "id": "b206f356-2f74-493b-b600-6ee14ee7dfc0",
   "metadata": {},
   "outputs": [
    {
     "data": {
      "text/plain": [
       "OneVsRest_db57606a0f1a"
      ]
     },
     "execution_count": 7,
     "metadata": {},
     "output_type": "execute_result"
    }
   ],
   "source": [
    "ovr.setPredictionCol('prediction')"
   ]
  },
  {
   "cell_type": "markdown",
   "id": "df8d4aef-27cb-43d4-b39d-f1a0f023c66e",
   "metadata": {},
   "source": [
    "### Train/Test split & fit model"
   ]
  },
  {
   "cell_type": "code",
   "execution_count": 8,
   "id": "c0d47c35-1452-4915-ba68-de678cfac3d2",
   "metadata": {},
   "outputs": [],
   "source": [
    "train, test = data.randomSplit([0.8, 0.2], seed=20)"
   ]
  },
  {
   "cell_type": "code",
   "execution_count": 9,
   "id": "c497dfb1-4c8b-4d8b-a4ef-de87b9192bf0",
   "metadata": {},
   "outputs": [
    {
     "name": "stderr",
     "output_type": "stream",
     "text": [
      "23/03/02 04:25:54 WARN org.apache.spark.ml.util.Instrumentation: [ca0e767a] All labels are the same value and fitIntercept=true, so the coefficients will be zeros. Training is not needed.\n",
      "23/03/02 04:26:00 WARN com.github.fommil.netlib.BLAS: Failed to load implementation from: com.github.fommil.netlib.NativeSystemBLAS\n",
      "23/03/02 04:26:00 WARN com.github.fommil.netlib.BLAS: Failed to load implementation from: com.github.fommil.netlib.NativeRefBLAS\n"
     ]
    }
   ],
   "source": [
    "model = ovr.fit(train)"
   ]
  },
  {
   "cell_type": "markdown",
   "id": "c8c05e9c-f6b0-426e-8722-ea5be8054d97",
   "metadata": {},
   "source": [
    "### Generate predictions for the test data"
   ]
  },
  {
   "cell_type": "code",
   "execution_count": 10,
   "id": "f9f782bd-7b24-4194-ac7a-18eb849fbeed",
   "metadata": {},
   "outputs": [],
   "source": [
    "predictions = model.transform(test).select('label', 'prediction')"
   ]
  },
  {
   "cell_type": "code",
   "execution_count": 11,
   "id": "94008876-ea83-4f8f-b910-d78ae8d09e2c",
   "metadata": {},
   "outputs": [
    {
     "name": "stderr",
     "output_type": "stream",
     "text": [
      "[Stage 60:>                                                         (0 + 1) / 1]\r"
     ]
    },
    {
     "name": "stdout",
     "output_type": "stream",
     "text": [
      "+-----+----------+\n",
      "|label|prediction|\n",
      "+-----+----------+\n",
      "|  1.0|       1.0|\n",
      "|  1.0|       1.0|\n",
      "|  1.0|       1.0|\n",
      "|  1.0|       1.0|\n",
      "|  1.0|       1.0|\n",
      "|  1.0|       1.0|\n",
      "|  1.0|       1.0|\n",
      "|  1.0|       1.0|\n",
      "|  1.0|       1.0|\n",
      "|  1.0|       1.0|\n",
      "|  2.0|       2.0|\n",
      "|  2.0|       2.0|\n",
      "|  2.0|       2.0|\n",
      "|  2.0|       2.0|\n",
      "|  2.0|       2.0|\n",
      "|  2.0|       2.0|\n",
      "|  2.0|       2.0|\n",
      "|  3.0|       3.0|\n",
      "|  3.0|       3.0|\n",
      "|  3.0|       3.0|\n",
      "|  3.0|       2.0|\n",
      "|  3.0|       3.0|\n",
      "|  3.0|       3.0|\n",
      "|  3.0|       3.0|\n",
      "|  3.0|       3.0|\n",
      "|  3.0|       3.0|\n",
      "|  3.0|       3.0|\n",
      "|  3.0|       3.0|\n",
      "|  3.0|       3.0|\n",
      "|  3.0|       3.0|\n",
      "+-----+----------+\n",
      "\n"
     ]
    },
    {
     "name": "stderr",
     "output_type": "stream",
     "text": [
      "                                                                                \r"
     ]
    }
   ],
   "source": [
    "predictions.show(predictions.count())"
   ]
  },
  {
   "cell_type": "markdown",
   "id": "2a237fe9-7b1d-4bf8-a55b-c3cee131ebb5",
   "metadata": {},
   "source": [
    "### Evaluate\n",
    "\n",
    "You can find more metrics [here](https://spark.apache.org/docs/latest/api/python/reference/api/pyspark.ml.evaluation.MulticlassClassificationEvaluator.html#pyspark.ml.evaluation.MulticlassClassificationEvaluator.metricName)."
   ]
  },
  {
   "cell_type": "code",
   "execution_count": 12,
   "id": "8c3c6ab9-8314-4342-b018-4c8fb0d05691",
   "metadata": {},
   "outputs": [
    {
     "name": "stderr",
     "output_type": "stream",
     "text": [
      "[Stage 61:>                                                         (0 + 1) / 1]\r"
     ]
    },
    {
     "name": "stdout",
     "output_type": "stream",
     "text": [
      "Accuracy: 0.9666666666666667\n"
     ]
    },
    {
     "name": "stderr",
     "output_type": "stream",
     "text": [
      "                                                                                \r"
     ]
    }
   ],
   "source": [
    "Eval = MulticlassClassificationEvaluator()\n",
    "Eval.setMetricName('accuracy')\n",
    "print('Accuracy: ' + str(Eval.evaluate(predictions)))"
   ]
  }
 ],
 "metadata": {
  "kernelspec": {
   "display_name": "Python 3 (ipykernel)",
   "language": "python",
   "name": "python3"
  },
  "language_info": {
   "codemirror_mode": {
    "name": "ipython",
    "version": 3
   },
   "file_extension": ".py",
   "mimetype": "text/x-python",
   "name": "python",
   "nbconvert_exporter": "python",
   "pygments_lexer": "ipython3",
   "version": "3.9.12"
  }
 },
 "nbformat": 4,
 "nbformat_minor": 5
}
